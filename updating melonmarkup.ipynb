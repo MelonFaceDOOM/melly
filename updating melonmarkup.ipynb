{
 "cells": [
  {
   "cell_type": "code",
   "execution_count": 131,
   "metadata": {},
   "outputs": [
    {
     "data": {
      "text/plain": [
       "26"
      ]
     },
     "execution_count": 131,
     "metadata": {},
     "output_type": "execute_result"
    }
   ],
   "source": [
    "pos = 12\n",
    "before = \"asda[b]asdsa[/b]1\"\n",
    "after = \"asda<strong>asdsa</strong>1\"\n",
    "pos += len(after) - len (before) + len(\"[/b]\")\n",
    "pos\n",
    "#after[pos] "
   ]
  },
  {
   "cell_type": "code",
   "execution_count": 135,
   "metadata": {},
   "outputs": [],
   "source": [
    "import json\n",
    "import os\n",
    "from tags import tags\n",
    "import re \n",
    "\n",
    "class FormatTag():\n",
    "    def __init__(self, name, start, end, output_template, format_func):\n",
    "        self.name = name\n",
    "        self.start = start\n",
    "        self.end = end\n",
    "        self.format_func = format_func\n",
    "        self.output_template = output_template\n",
    "        self.openings = []\n",
    "        \n",
    "\n",
    "    def close(self, unformatted, end_pos):\n",
    "        if self.openings:\n",
    "            pre_text = unformatted[:self.openings[-1]]\n",
    "            post_text = unformatted[end_pos + len(self.end):]\n",
    "            tagged_text = unformatted[self.openings[-1]: end_pos+len(self.end)]\n",
    "            formatted = self.format_func(self, tagged_text)            \n",
    "            self.openings = self.openings[:-1]\n",
    "            return pre_text + formatted + post_text\n",
    "        else:\n",
    "            return unformatted\n",
    "\n",
    "\n",
    "def create_tags():\n",
    "    format_tags = []\n",
    "    for t in tags:\n",
    "        format_tags.append(FormatTag(name=t['name'], start=t['start'], end=t['end'],\n",
    "                              output_template=t['output_template'], format_func=t['format_func']))\n",
    "    return format_tags\n",
    "    \n",
    "\n",
    "def parse(s):\n",
    "    # the FormatTag class keeps track of information for each tag type, while variables within this function\n",
    "    # are responsible for keeping track of inter-tag information and adjusting the tag values based on what happens\n",
    "    # as the string is parsed\n",
    "    \n",
    "    replace = {\n",
    "        u'<': u'&lt;',\n",
    "        u'>': u'&gt;',\n",
    "        u'&': u'&amp;',\n",
    "        u'\\n': u'<br/>'\n",
    "    }\n",
    "    \n",
    "    for key in replace.keys():\n",
    "        s = s.replace(key, replace[key])\n",
    "\n",
    "    tags = create_tags()\n",
    "    open_bracket_pos = None\n",
    "    pos = 0\n",
    "    while True:\n",
    "        if pos >= len(s):\n",
    "            return s\n",
    "        # encountering end tags\n",
    "        elif s[pos:pos+2] == \"[/\":\n",
    "            for tag in tags:\n",
    "                if s[pos:].startswith(tag.end):\n",
    "                    if tag.openings:\n",
    "                        tag_opening_pos = tag.openings[-1]\n",
    "                        len_before = len(s)\n",
    "                        s = tag.close(s, pos)\n",
    "                        \n",
    "\n",
    "                        # find if any tags were between the start and close of the tag that was just closed\n",
    "                        inbetween_tags = False\n",
    "                        for _tag in tags:\n",
    "                            for i, _tag_opening_pos in enumerate(_tag.openings):\n",
    "                                if _tag_opening_pos > tag_opening_pos and _tag_opening_pos < pos:\n",
    "                                    inbetween_tags = True\n",
    "                                    del _tag.openings[i] # delete in-between tags as their position value is no longer valid\n",
    "\n",
    "                        if inbetween_tags:\n",
    "                        # restart the parser at that the start location of the tag that was closed \n",
    "                            pos = tag_opening_pos\n",
    "                            break\n",
    "\n",
    "                        # if there were no tags between, adjust the frame to the ending of this tag pairing)\n",
    "                        pos += len(tag.end)+len(s)-len_before\n",
    "                        break\n",
    "                    else:\n",
    "                        # if there is an end tag with no opening tag, skip past it.\n",
    "                        pos += len (tag.end)\n",
    "                        break\n",
    "                \n",
    "        # encountering the start of opening tags\n",
    "        elif s[pos] == \"[\":\n",
    "            open_bracket_pos = pos\n",
    "            pos += 1\n",
    "        # encountering the end of opening tags\n",
    "        elif s[pos] == \"]\":\n",
    "            if open_bracket_pos is not None:\n",
    "                possible_start_tag = s[open_bracket_pos:pos+1]\n",
    "                for tag in tags:\n",
    "                    if bool(re.match(tag.start, possible_start_tag)):\n",
    "                        tag.openings.append(open_bracket_pos)\n",
    "                        open_bracket_pos = None\n",
    "                        break\n",
    "            pos += 1\n",
    "        else:\n",
    "            pos += 1\n",
    "        #print(pos, s[:pos])\n"
   ]
  },
  {
   "cell_type": "code",
   "execution_count": 139,
   "metadata": {},
   "outputs": [
    {
     "data": {
      "text/plain": [
       "'asda<strong><strong><strong><strong><strong><strong>asd</strong>sa</strong></strong></strong></strong></strong>[/b][/b][/b][/b]1'"
      ]
     },
     "execution_count": 139,
     "metadata": {},
     "output_type": "execute_result"
    }
   ],
   "source": [
    "parse(\"asda[b][b][b][b][b][b]asd[/b]sa[/b][/b][/b][/b][/b][/b][/b][/b][/b]1\")"
   ]
  }
 ],
 "metadata": {
  "kernelspec": {
   "display_name": "Python 3",
   "language": "python",
   "name": "python3"
  },
  "language_info": {
   "codemirror_mode": {
    "name": "ipython",
    "version": 3
   },
   "file_extension": ".py",
   "mimetype": "text/x-python",
   "name": "python",
   "nbconvert_exporter": "python",
   "pygments_lexer": "ipython3",
   "version": "3.7.3"
  }
 },
 "nbformat": 4,
 "nbformat_minor": 2
}
