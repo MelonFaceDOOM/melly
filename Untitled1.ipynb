{
 "cells": [
  {
   "cell_type": "code",
   "execution_count": 1,
   "metadata": {},
   "outputs": [],
   "source": [
    "import postmarkup"
   ]
  },
  {
   "cell_type": "code",
   "execution_count": 8,
   "metadata": {},
   "outputs": [
    {
     "data": {
      "text/plain": [
       "'&amp;lt;&amp;lt;asdasdadada&amp;gt;sdad&amp;lt;<br/>asdasda&amp;&amp;sadad'"
      ]
     },
     "execution_count": 8,
     "metadata": {},
     "output_type": "execute_result"
    }
   ],
   "source": [
    "s = \"<<asdasdadada>sdad<\\nasdasda&&sadad\"\n",
    "replace = {\n",
    "        u'<':u'&lt;',\n",
    "        u'>':u'&gt;',\n",
    "        u'&':u'&amp;',\n",
    "        u'\\n':u'<br/>'\n",
    "    }\n",
    "\n",
    "for key in replace.keys():\n",
    "    s = s.replace(key,replace[key])\n",
    "s"
   ]
  }
 ],
 "metadata": {
  "kernelspec": {
   "display_name": "Python 3",
   "language": "python",
   "name": "python3"
  },
  "language_info": {
   "codemirror_mode": {
    "name": "ipython",
    "version": 3
   },
   "file_extension": ".py",
   "mimetype": "text/x-python",
   "name": "python",
   "nbconvert_exporter": "python",
   "pygments_lexer": "ipython3",
   "version": "3.7.3"
  }
 },
 "nbformat": 4,
 "nbformat_minor": 2
}
